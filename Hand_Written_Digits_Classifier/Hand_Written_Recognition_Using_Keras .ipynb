{
 "cells": [
  {
   "cell_type": "code",
   "execution_count": 1,
   "metadata": {},
   "outputs": [
    {
     "name": "stderr",
     "output_type": "stream",
     "text": [
      "C:\\Users\\ranis\\Anaconda3\\lib\\site-packages\\h5py\\__init__.py:36: FutureWarning: Conversion of the second argument of issubdtype from `float` to `np.floating` is deprecated. In future, it will be treated as `np.float64 == np.dtype(float).type`.\n",
      "  from ._conv import register_converters as _register_converters\n",
      "Using TensorFlow backend.\n"
     ]
    }
   ],
   "source": [
    "#importing the libraries\n",
    "import keras  # importing python library"
   ]
  },
  {
   "cell_type": "code",
   "execution_count": 2,
   "metadata": {},
   "outputs": [],
   "source": [
    "#loading the MNIST dataset in Keras\n",
    "\n",
    "from keras.datasets import mnist  #mnist dataset is a set of 60,000 training images and 10,000 test images.\n",
    "#the train_images and the test_labels fromt the training set, the data that the model leans from. Model is then tested on the test set\n",
    "#train_images ,  train_labels\n",
    "(train_images , train_labels) , (test_images , test_labels) = mnist.load_data()"
   ]
  },
  {
   "cell_type": "code",
   "execution_count": 3,
   "metadata": {},
   "outputs": [
    {
     "name": "stdout",
     "output_type": "stream",
     "text": [
      "(60000, 28, 28)\n",
      "[5 0 4 ... 5 6 8]\n",
      "(10000, 28, 28)\n",
      "[7 2 1 ... 4 5 6]\n"
     ]
    }
   ],
   "source": [
    "#The images are encoded as numpy arrays and the labels are an array of digits, ranging from 0 to 9. Images and labels have a one to one correspondence.\n",
    "\n",
    "#training data\n",
    "print(train_images.shape) # 60,000 images each having a pixel size of 28*28\n",
    "print(train_labels)       # \n",
    "\n",
    "#test data\n",
    "print(test_images.shape)\n",
    "print(test_labels)"
   ]
  },
  {
   "cell_type": "code",
   "execution_count": 4,
   "metadata": {},
   "outputs": [
    {
     "data": {
      "text/plain": [
       "10000"
      ]
     },
     "execution_count": 4,
     "metadata": {},
     "output_type": "execute_result"
    }
   ],
   "source": [
    "len(test_labels)"
   ]
  },
  {
   "cell_type": "code",
   "execution_count": 5,
   "metadata": {},
   "outputs": [],
   "source": [
    "#The neural network architecture. \n",
    "\n",
    "#To the neural network the training data is fed. Then the model learns to associate the labels for their corresponding images. \n",
    "#And finally the network will then predict for the test_images and verify if these predictions match the labels from the test_labels\n",
    "\n",
    "from keras import models #We use the Sequential Model which is a linear sdtack of layers\n",
    "from keras import layers  \n",
    "\n",
    "#The input layer should know the type of the shape of the image it should accept. So it uses the input argument which is a tuple \n",
    "#integers or None entries \n",
    "network = models.Sequential()\n",
    "network.add(layers.Dense(512 , activation = 'relu' , input_shape = (28*28 ,))) #first  fully connected hidden layer consisting of 512 neurons.\n",
    "network.add(layers.Dense(10 , activation = 'softmax'))                    #second fully connected layer consisting of 10 neurons\n",
    "\n",
    "#This last layer returns an array of 10-way softmax layer, which means it will return an array of 10 possible scores .\n",
    "#Each score will be the probability that the current digital image belongs to one of our 10 digit class.\n",
    "\n",
    "\n"
   ]
  },
  {
   "cell_type": "code",
   "execution_count": 6,
   "metadata": {},
   "outputs": [],
   "source": [
    "#The compilation Step\n",
    "\n",
    "#Berfore compiling the model for making it learn about the learing process we need to configure it via three arguments.\n",
    "#Loss function  = Helps the function to measurte its performance on the training data.\n",
    "#Optimizer = It is a mechanism through which the network will update itself based on the data it sees and its loss function.\n",
    "#Metrics =  Monitors during trainig and testing to measure the accuracy of the model\n",
    "\n",
    "network.compile(optimizer = 'rmsprop' ,       \n",
    "                loss = 'categorical_crossentropy' ,\n",
    "                metrics = ['accuracy'])\n",
    "\n",
    "#rmsprop uses only the learning rate parameter and leaves the rest set at default values.\n",
    "#The categorical_crossentropy is a tensorflow model loss which return a scalar for each data point and returns two scalars(y_true ,y_pred\n"
   ]
  },
  {
   "cell_type": "code",
   "execution_count": 7,
   "metadata": {},
   "outputs": [],
   "source": [
    "#Preparing the inage data\n",
    "\n",
    "#Reshaping of all the input data and rescaling it so that all the values are in the interval [0 , 1]\n",
    "#Previously, the training examples were stored in an aaray of shape (60000, 28, 28) of type unit8 with values in the [0, 255] interval.Now it is transformed to an array of \n",
    "#shape (60000, 28, 28) float32 with values between 0 and 1\n",
    "\n",
    "train_images = train_images.reshape((60000, 28*28))\n",
    "train_images = train_images.astype('float32')/ 255\n",
    "\n",
    "test_images = test_images.reshape((10000, 28*28))\n",
    "test_images = test_images.astype('float32')/ 255"
   ]
  },
  {
   "cell_type": "code",
   "execution_count": 8,
   "metadata": {},
   "outputs": [],
   "source": [
    "#Preparing the labels\n",
    "\n",
    "from keras.utils import to_categorical\n",
    "\n",
    "train_labels = to_categorical(train_labels)\n",
    "test_labels = to_categorical(test_labels)"
   ]
  },
  {
   "cell_type": "code",
   "execution_count": 9,
   "metadata": {},
   "outputs": [
    {
     "name": "stdout",
     "output_type": "stream",
     "text": [
      "Epoch 1/5\n",
      "60000/60000 [==============================] - 9s 152us/step - loss: 0.2540 - acc: 0.9263\n",
      "Epoch 2/5\n",
      "60000/60000 [==============================] - 7s 122us/step - loss: 0.1035 - acc: 0.9700\n",
      "Epoch 3/5\n",
      "60000/60000 [==============================] - 7s 122us/step - loss: 0.0683 - acc: 0.9792\n",
      "Epoch 4/5\n",
      "60000/60000 [==============================] - 9s 150us/step - loss: 0.0502 - acc: 0.9846\n",
      "Epoch 5/5\n",
      "60000/60000 [==============================] - 12s 192us/step - loss: 0.0373 - acc: 0.9887\n"
     ]
    },
    {
     "data": {
      "text/plain": [
       "<keras.callbacks.History at 0x1ee0feb45c0>"
      ]
     },
     "execution_count": 9,
     "metadata": {},
     "output_type": "execute_result"
    }
   ],
   "source": [
    "#Load the model to the network\n",
    "\n",
    "network.fit(train_images , train_labels , epochs = 5 , batch_size = 128)"
   ]
  },
  {
   "cell_type": "code",
   "execution_count": 10,
   "metadata": {},
   "outputs": [
    {
     "name": "stdout",
     "output_type": "stream",
     "text": [
      "10000/10000 [==============================] - 1s 92us/step\n",
      "test_acc: 0.9819\n"
     ]
    }
   ],
   "source": [
    "#Models performance on test set\n",
    "\n",
    "test_loss , test_acc = network.evaluate(test_images, test_labels)\n",
    "print('test_acc:' , test_acc)"
   ]
  },
  {
   "cell_type": "code",
   "execution_count": null,
   "metadata": {},
   "outputs": [],
   "source": []
  }
 ],
 "metadata": {
  "kernelspec": {
   "display_name": "Python 3",
   "language": "python",
   "name": "python3"
  },
  "language_info": {
   "codemirror_mode": {
    "name": "ipython",
    "version": 3
   },
   "file_extension": ".py",
   "mimetype": "text/x-python",
   "name": "python",
   "nbconvert_exporter": "python",
   "pygments_lexer": "ipython3",
   "version": "3.6.5"
  }
 },
 "nbformat": 4,
 "nbformat_minor": 2
}
